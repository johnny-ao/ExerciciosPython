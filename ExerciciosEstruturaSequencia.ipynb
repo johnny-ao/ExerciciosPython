{
  "nbformat": 4,
  "nbformat_minor": 0,
  "metadata": {
    "colab": {
      "provenance": [],
      "authorship_tag": "ABX9TyMRIiQOSZc0rTEiC2cSYfeL",
      "include_colab_link": true
    },
    "kernelspec": {
      "name": "python3",
      "display_name": "Python 3"
    },
    "language_info": {
      "name": "python"
    }
  },
  "cells": [
    {
      "cell_type": "markdown",
      "metadata": {
        "id": "view-in-github",
        "colab_type": "text"
      },
      "source": [
        "<a href=\"https://colab.research.google.com/github/johnny-ao/ExerciciosPython/blob/main/ExerciciosEstruturaSequencia.ipynb\" target=\"_parent\"><img src=\"https://colab.research.google.com/assets/colab-badge.svg\" alt=\"Open In Colab\"/></a>"
      ]
    },
    {
      "cell_type": "markdown",
      "source": [
        "1. Faça um Programa que mostre a mensagem \"Alo mundo\" na tela\n",
        "\n"
      ],
      "metadata": {
        "id": "iXqC9Fh4woE9"
      }
    },
    {
      "cell_type": "code",
      "source": [
        "print(\"Alo mundo\")"
      ],
      "metadata": {
        "colab": {
          "base_uri": "https://localhost:8080/"
        },
        "id": "O9HypYnqw_bU",
        "outputId": "f607f570-e452-4e44-bb20-fb21e5d8e846"
      },
      "execution_count": null,
      "outputs": [
        {
          "output_type": "stream",
          "name": "stdout",
          "text": [
            "Alo mundo\n"
          ]
        }
      ]
    },
    {
      "cell_type": "markdown",
      "source": [
        "2. Faça um Programa que peça um número e então mostre a mensagem O número informado foi [número]."
      ],
      "metadata": {
        "id": "qwt9ozDHxImc"
      }
    },
    {
      "cell_type": "code",
      "source": [
        "n = int(input(\"Digite um numero:\"))\n",
        "print(\"O numero informado foi \",n)"
      ],
      "metadata": {
        "colab": {
          "base_uri": "https://localhost:8080/"
        },
        "id": "BpcVJ696xRO9",
        "outputId": "eaaeb722-9892-4f07-f6ca-b1cad5b74de7"
      },
      "execution_count": null,
      "outputs": [
        {
          "output_type": "stream",
          "name": "stdout",
          "text": [
            "Digite um numero:35\n",
            "O numero informado foi  35\n"
          ]
        }
      ]
    },
    {
      "cell_type": "markdown",
      "source": [
        "3. Faça um Programa que peça dois números e imprima a soma."
      ],
      "metadata": {
        "id": "oV2r7Suvx5zd"
      }
    },
    {
      "cell_type": "code",
      "source": [
        "n1 = int(input(\"Digite o primeiro numero:\"))\n",
        "n2 = int(input(\"Digite o segundo numero:\"))\n",
        "soma = n1 + n2\n",
        "print(\"A soma dos valores é: \", soma)"
      ],
      "metadata": {
        "colab": {
          "base_uri": "https://localhost:8080/"
        },
        "id": "gvORUsGax9Dc",
        "outputId": "22692f74-00dd-4615-af49-5656ce2ffe6f"
      },
      "execution_count": null,
      "outputs": [
        {
          "output_type": "stream",
          "name": "stdout",
          "text": [
            "Digite o primeiro numero:23\n",
            "Digite o segundo numero:62\n",
            "A soma dos valores é:  85\n"
          ]
        }
      ]
    },
    {
      "cell_type": "markdown",
      "source": [
        "4. Faça um Programa que peça as 4 notas bimestrais e mostre a média."
      ],
      "metadata": {
        "id": "ODpuYY8H0RL0"
      }
    },
    {
      "cell_type": "code",
      "source": [
        "nota1 = float(input(\"Digite a nota do bimestre 1: \"))\n",
        "nota2 = float(input(\"Digite a nota do bimestre 3: \"))\n",
        "nota3 = float(input(\"Digite a nota do bimestre 3: \"))\n",
        "nota4 = float(input(\"Digite a nota do bimestre 4: \"))\n",
        "\n",
        "media = (nota1+nota2+nota3+nota4)/4\n",
        "\n",
        "print(\"A media obtida é: \", media)"
      ],
      "metadata": {
        "id": "Fo09d2pw0T-T",
        "colab": {
          "base_uri": "https://localhost:8080/"
        },
        "outputId": "da7956ba-60ff-4954-ab67-a3335a66d081"
      },
      "execution_count": 2,
      "outputs": [
        {
          "output_type": "stream",
          "name": "stdout",
          "text": [
            "Digite a nota do bimestre 1: 68\n",
            "Digite a nota do bimestre 3: 79\n",
            "Digite a nota do bimestre 3: 90\n",
            "Digite a nota do bimestre 4: 78\n",
            "A media obtida é:  78.75\n"
          ]
        }
      ]
    },
    {
      "cell_type": "markdown",
      "source": [
        "5. Faça um Programa que converta metros para centímetros."
      ],
      "metadata": {
        "id": "zZzQ4Nh_2t81"
      }
    },
    {
      "cell_type": "code",
      "source": [
        "medidaM = float(input(\"Digite uma medida de metros: \"))\n",
        "medidaCm = medidaM * 100\n",
        "print(medidaM, \"metros equivale a \",medidaCm,\"centimetros.\")"
      ],
      "metadata": {
        "colab": {
          "base_uri": "https://localhost:8080/"
        },
        "id": "J6yE37AF2wsd",
        "outputId": "5ee35f19-f4f1-4754-ea05-e3935d3fdbce"
      },
      "execution_count": 3,
      "outputs": [
        {
          "output_type": "stream",
          "name": "stdout",
          "text": [
            "Digite uma medida de metros: 1.8\n",
            "1.8 metros equivale a  180.0 centimetros.\n"
          ]
        }
      ]
    },
    {
      "cell_type": "markdown",
      "source": [
        "6. Faça um Programa que peça o raio de um círculo, calcule e mostre sua área."
      ],
      "metadata": {
        "id": "kDbPjV2547P7"
      }
    },
    {
      "cell_type": "code",
      "source": [
        "r = float(input(\"Digite a medida do raio do circulo: \"))\n",
        "pi = 3.14\n",
        "a = pi * (r**2)\n",
        "print(\"A área do circulo é: \", a, \"cm²\")"
      ],
      "metadata": {
        "colab": {
          "base_uri": "https://localhost:8080/"
        },
        "id": "axPb-WD449LD",
        "outputId": "17a1e83f-3444-4ed3-90ae-ed3a035283d9"
      },
      "execution_count": 6,
      "outputs": [
        {
          "output_type": "stream",
          "name": "stdout",
          "text": [
            "Digite a medida do raio do circulo: 3\n",
            "A área do circulo é:  28.26 cm²\n"
          ]
        }
      ]
    },
    {
      "cell_type": "markdown",
      "source": [
        "7. Faça um Programa que calcule a área de um quadrado, em seguida mostre o dobro desta área para o usuário."
      ],
      "metadata": {
        "id": "qH7tC1tQpmfX"
      }
    },
    {
      "cell_type": "code",
      "source": [],
      "metadata": {
        "id": "xChK2TFDpsTn"
      },
      "execution_count": null,
      "outputs": []
    },
    {
      "cell_type": "markdown",
      "source": [
        "8. Faça um Programa que pergunte quanto você ganha por hora e o número de horas trabalhadas no mês. Calcule e mostre o total do seu salário no referido mês."
      ],
      "metadata": {
        "id": "VAl5-1c3x9wt"
      }
    },
    {
      "cell_type": "code",
      "source": [],
      "metadata": {
        "id": "xmmDdiXQyD9L"
      },
      "execution_count": null,
      "outputs": []
    },
    {
      "cell_type": "markdown",
      "source": [
        "9. Faça um Programa que peça a temperatura em graus Fahrenheit, transforme e mostre a temperatura em graus Celsius.\n",
        "C = 5 * ((F-32) / 9)."
      ],
      "metadata": {
        "id": "NyX0Dl4ZyEfT"
      }
    },
    {
      "cell_type": "code",
      "source": [],
      "metadata": {
        "id": "ztI7S9X8yJM6"
      },
      "execution_count": null,
      "outputs": []
    },
    {
      "cell_type": "markdown",
      "source": [
        "10. Faça um Programa que peça a temperatura em graus Celsius, transforme e mostre em graus Fahrenheit."
      ],
      "metadata": {
        "id": "W5wl8QQIyKwK"
      }
    },
    {
      "cell_type": "code",
      "source": [],
      "metadata": {
        "id": "xP8wMEd4yPZL"
      },
      "execution_count": null,
      "outputs": []
    },
    {
      "cell_type": "markdown",
      "source": [
        "11. Faça um Programa que peça 2 números inteiros e um número real. Calcule e mostre:\n",
        "o produto do dobro do primeiro com metade do segundo .\n",
        "a soma do triplo do primeiro com o terceiro.\n",
        "o terceiro elevado ao cubo."
      ],
      "metadata": {
        "id": "TuzfVL5gyPwl"
      }
    },
    {
      "cell_type": "code",
      "source": [],
      "metadata": {
        "id": "VpX7dYUvyT2D"
      },
      "execution_count": null,
      "outputs": []
    },
    {
      "cell_type": "markdown",
      "source": [
        "12. Tendo como dados de entrada a altura de uma pessoa, construa um algoritmo que calcule seu peso ideal, usando a seguinte fórmula: (72.7*altura) - 58"
      ],
      "metadata": {
        "id": "5SPpAiubyUby"
      }
    },
    {
      "cell_type": "code",
      "source": [],
      "metadata": {
        "id": "nxJ1ygVTyZBq"
      },
      "execution_count": null,
      "outputs": []
    },
    {
      "cell_type": "markdown",
      "source": [
        "13. Tendo como dado de entrada a altura (h) de uma pessoa, construa um algoritmo que calcule seu peso ideal, utilizando as seguintes fórmulas:\n",
        "Para homens: (72.7*h) - 58\n",
        "Para mulheres: (62.1*h) - 44.7"
      ],
      "metadata": {
        "id": "TyFNsATpyZzy"
      }
    },
    {
      "cell_type": "code",
      "source": [],
      "metadata": {
        "id": "SmYPixlQydHj"
      },
      "execution_count": null,
      "outputs": []
    },
    {
      "cell_type": "markdown",
      "source": [
        "14. João Papo-de-Pescador, homem de bem, comprou um microcomputador para controlar o rendimento diário de seu trabalho. Toda vez que ele traz um peso de peixes maior que o estabelecido pelo regulamento de pesca do estado de São Paulo (50 quilos) deve pagar uma multa de R$ 4,00 por quilo excedente. João precisa que você faça um programa que leia a variável peso (peso de peixes) e calcule o excesso. Gravar na variável excesso a quantidade de quilos além do limite e na variável multa o valor da multa que João deverá pagar. Imprima os dados do programa com as mensagens adequadas."
      ],
      "metadata": {
        "id": "Z12ooS-vydha"
      }
    },
    {
      "cell_type": "code",
      "source": [],
      "metadata": {
        "id": "XWBOmT6Oyi1h"
      },
      "execution_count": null,
      "outputs": []
    },
    {
      "cell_type": "markdown",
      "source": [
        "15. Faça um Programa que pergunte quanto você ganha por hora e o número de horas trabalhadas no mês. Calcule e mostre o total do seu salário no referido mês, sabendo-se que são descontados 11% para o Imposto de Renda, 8% para o INSS e 5% para o sindicato, faça um programa que nos dê:\n",
        "salário bruto.\n",
        "quanto pagou ao INSS.\n",
        "quanto pagou ao sindicato.\n",
        "o salário líquido.\n",
        "calcule os descontos e o salário líquido, conforme a tabela abaixo:\n",
        "+ Salário Bruto : R$\n",
        "- IR (11%) : R$\n",
        "- INSS (8%) : R$\n",
        "- Sindicato ( 5%) : R$\n",
        "= Salário Liquido : R$\n",
        "Obs.: Salário Bruto - Descontos = Salário Líquido."
      ],
      "metadata": {
        "id": "2KgPZf_nyjDx"
      }
    },
    {
      "cell_type": "code",
      "source": [],
      "metadata": {
        "id": "vfUUtgFoyonA"
      },
      "execution_count": null,
      "outputs": []
    },
    {
      "cell_type": "markdown",
      "source": [
        "16. Faça um programa para uma loja de tintas. O programa deverá pedir o tamanho em metros quadrados da área a ser pintada. Considere que a cobertura da tinta é de 1 litro para cada 3 metros quadrados e que a tinta é vendida em latas de 18 litros, que custam R$ 80,00. Informe ao usuário a quantidades de latas de tinta a serem compradas e o preço total."
      ],
      "metadata": {
        "id": "LyGbU0dgypAI"
      }
    },
    {
      "cell_type": "code",
      "source": [],
      "metadata": {
        "id": "S-V9C0Cfyt8R"
      },
      "execution_count": null,
      "outputs": []
    },
    {
      "cell_type": "markdown",
      "source": [
        "17. Faça um Programa para uma loja de tintas. O programa deverá pedir o tamanho em metros quadrados da área a ser pintada. Considere que a cobertura da tinta é de 1 litro para cada 6 metros quadrados e que a tinta é vendida em latas de 18 litros, que custam R$ 80,00 ou em galões de 3,6 litros, que custam R$ 25,00.\n",
        "Informe ao usuário as quantidades de tinta a serem compradas e os respectivos preços em 3 situações:\n",
        "comprar apenas latas de 18 litros;\n",
        "comprar apenas galões de 3,6 litros;\n",
        "misturar latas e galões, de forma que o desperdício de tinta seja menor. Acrescente 10% de folga e sempre arredonde os valores para cima, isto é, considere latas cheias."
      ],
      "metadata": {
        "id": "WJkkFpgtyung"
      }
    },
    {
      "cell_type": "code",
      "source": [],
      "metadata": {
        "id": "fKpMx1Njyx6S"
      },
      "execution_count": null,
      "outputs": []
    },
    {
      "cell_type": "markdown",
      "source": [
        "18. Faça um programa que peça o tamanho de um arquivo para download (em MB) e a velocidade de um link de Internet (em Mbps), calcule e informe o tempo aproximado de download do arquivo usando este link (em minutos)."
      ],
      "metadata": {
        "id": "sJ5wZ5bPyyIg"
      }
    },
    {
      "cell_type": "code",
      "source": [],
      "metadata": {
        "id": "pczOwMQry0Zq"
      },
      "execution_count": null,
      "outputs": []
    }
  ]
}