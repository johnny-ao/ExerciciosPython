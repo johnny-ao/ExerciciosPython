{
  "nbformat": 4,
  "nbformat_minor": 0,
  "metadata": {
    "colab": {
      "provenance": [],
      "toc_visible": true,
      "authorship_tag": "ABX9TyOyJrxQpnjfu8QfGJwYTb2a",
      "include_colab_link": true
    },
    "kernelspec": {
      "name": "python3",
      "display_name": "Python 3"
    },
    "language_info": {
      "name": "python"
    }
  },
  "cells": [
    {
      "cell_type": "markdown",
      "metadata": {
        "id": "view-in-github",
        "colab_type": "text"
      },
      "source": [
        "<a href=\"https://colab.research.google.com/github/johnny-ao/johnny-ao/blob/main/ExerciciosEstruturaSequencia.ipynb\" target=\"_parent\"><img src=\"https://colab.research.google.com/assets/colab-badge.svg\" alt=\"Open In Colab\"/></a>"
      ]
    },
    {
      "cell_type": "markdown",
      "source": [
        "1. Faça um Programa que mostre a mensagem \"Alo mundo\" na tela\n",
        "\n"
      ],
      "metadata": {
        "id": "iXqC9Fh4woE9"
      }
    },
    {
      "cell_type": "code",
      "source": [
        "print(\"Alo mundo\")"
      ],
      "metadata": {
        "colab": {
          "base_uri": "https://localhost:8080/"
        },
        "id": "O9HypYnqw_bU",
        "outputId": "f607f570-e452-4e44-bb20-fb21e5d8e846"
      },
      "execution_count": null,
      "outputs": [
        {
          "output_type": "stream",
          "name": "stdout",
          "text": [
            "Alo mundo\n"
          ]
        }
      ]
    },
    {
      "cell_type": "markdown",
      "source": [
        "2. Faça um Programa que peça um número e então mostre a mensagem O número informado foi [número]."
      ],
      "metadata": {
        "id": "qwt9ozDHxImc"
      }
    },
    {
      "cell_type": "code",
      "source": [
        "n = int(input(\"Digite um numero:\"))\n",
        "print(\"O numero informado foi \",n)"
      ],
      "metadata": {
        "colab": {
          "base_uri": "https://localhost:8080/"
        },
        "id": "BpcVJ696xRO9",
        "outputId": "eaaeb722-9892-4f07-f6ca-b1cad5b74de7"
      },
      "execution_count": null,
      "outputs": [
        {
          "output_type": "stream",
          "name": "stdout",
          "text": [
            "Digite um numero:35\n",
            "O numero informado foi  35\n"
          ]
        }
      ]
    },
    {
      "cell_type": "markdown",
      "source": [
        "3. Faça um Programa que peça dois números e imprima a soma."
      ],
      "metadata": {
        "id": "oV2r7Suvx5zd"
      }
    },
    {
      "cell_type": "code",
      "source": [
        "n1 = int(input(\"Digite o primeiro numero:\"))\n",
        "n2 = int(input(\"Digite o segundo numero:\"))\n",
        "soma = n1 + n2\n",
        "print(\"A soma dos valores é: \", soma)"
      ],
      "metadata": {
        "colab": {
          "base_uri": "https://localhost:8080/"
        },
        "id": "gvORUsGax9Dc",
        "outputId": "22692f74-00dd-4615-af49-5656ce2ffe6f"
      },
      "execution_count": null,
      "outputs": [
        {
          "output_type": "stream",
          "name": "stdout",
          "text": [
            "Digite o primeiro numero:23\n",
            "Digite o segundo numero:62\n",
            "A soma dos valores é:  85\n"
          ]
        }
      ]
    },
    {
      "cell_type": "markdown",
      "source": [
        "4. Faça um Programa que peça as 4 notas bimestrais e mostre a média."
      ],
      "metadata": {
        "id": "ODpuYY8H0RL0"
      }
    },
    {
      "cell_type": "code",
      "source": [
        "nota1 = float(input(\"Digite a nota do bimestre 1: \"))\n",
        "nota2 = float(input(\"Digite a nota do bimestre 3: \"))\n",
        "nota3 = float(input(\"Digite a nota do bimestre 3: \"))\n",
        "nota4 = float(input(\"Digite a nota do bimestre 4: \"))\n",
        "\n",
        "media = (nota1+nota2+nota3+nota4)/4\n",
        "\n",
        "print(\"A media obtida é: \", media)"
      ],
      "metadata": {
        "id": "Fo09d2pw0T-T",
        "colab": {
          "base_uri": "https://localhost:8080/"
        },
        "outputId": "da7956ba-60ff-4954-ab67-a3335a66d081"
      },
      "execution_count": 2,
      "outputs": [
        {
          "output_type": "stream",
          "name": "stdout",
          "text": [
            "Digite a nota do bimestre 1: 68\n",
            "Digite a nota do bimestre 3: 79\n",
            "Digite a nota do bimestre 3: 90\n",
            "Digite a nota do bimestre 4: 78\n",
            "A media obtida é:  78.75\n"
          ]
        }
      ]
    },
    {
      "cell_type": "markdown",
      "source": [
        "5. Faça um Programa que converta metros para centímetros."
      ],
      "metadata": {
        "id": "zZzQ4Nh_2t81"
      }
    },
    {
      "cell_type": "code",
      "source": [],
      "metadata": {
        "id": "J6yE37AF2wsd"
      },
      "execution_count": null,
      "outputs": []
    }
  ]
}